{
 "cells": [
  {
   "cell_type": "markdown",
   "id": "4b8a2b7d",
   "metadata": {
    "id": "4b8a2b7d"
   },
   "source": [
    "# Matrix factorizations\n",
    "\n",
    "1. Compare PCA, SVD, ALS on random matrix\n",
    "2. Get familiar with music dataset\n",
    "3. Look at item2item similarities for music"
   ]
  },
  {
   "cell_type": "code",
   "execution_count": 1,
   "id": "641fd620",
   "metadata": {
    "ExecuteTime": {
     "end_time": "2023-10-30T03:55:15.581506Z",
     "start_time": "2023-10-30T03:55:15.064596Z"
    },
    "id": "641fd620"
   },
   "outputs": [],
   "source": [
    "import numpy as np\n",
    "import matplotlib.pyplot as plt\n",
    "%matplotlib inline"
   ]
  },
  {
   "cell_type": "code",
   "execution_count": 2,
   "id": "828b3747",
   "metadata": {
    "ExecuteTime": {
     "end_time": "2023-10-30T03:55:16.402987Z",
     "start_time": "2023-10-30T03:55:16.389438Z"
    },
    "id": "828b3747"
   },
   "outputs": [
    {
     "data": {
      "text/plain": [
       "array([[ 0.08181712, -0.78378128, -1.96953579,  0.11612118, -0.63456   ],\n",
       "       [ 0.75362632,  0.49536099, -0.31452712, -1.06194306, -0.40803442],\n",
       "       [ 0.75841923, -1.35624471,  1.62974757, -0.21753049, -0.16488684],\n",
       "       [ 0.93196253, -1.55154829, -0.74010228,  2.43004486,  0.11537723],\n",
       "       [ 0.13131419, -0.54525311,  0.62427159, -1.24987243, -0.8025712 ],\n",
       "       [ 0.67554779,  0.47545261, -0.59701767,  1.70858858,  1.46370622],\n",
       "       [ 0.08278009, -0.17547587,  0.45567126,  1.05637436, -0.91609338],\n",
       "       [ 3.00845926, -1.80933803, -1.46671034, -0.95233641,  1.08764166]])"
      ]
     },
     "execution_count": 2,
     "metadata": {},
     "output_type": "execute_result"
    }
   ],
   "source": [
    "A = np.random.randn(8, 5)\n",
    "A"
   ]
  },
  {
   "cell_type": "markdown",
   "id": "c522205f",
   "metadata": {
    "id": "c522205f"
   },
   "source": [
    "# PCA"
   ]
  },
  {
   "cell_type": "code",
   "execution_count": 6,
   "id": "99576d92",
   "metadata": {
    "ExecuteTime": {
     "end_time": "2023-10-30T04:03:45.645534Z",
     "start_time": "2023-10-30T04:03:45.634008Z"
    },
    "id": "99576d92"
   },
   "outputs": [],
   "source": [
    "def center_mass(A):\n",
    "    return A.mean(0)\n",
    "\n",
    "def covariance(A): # size = n * p -> p * p\n",
    "    A_norm = A - center_mass(A) # n * p\n",
    "    return A_norm.T @ A_norm"
   ]
  },
  {
   "cell_type": "code",
   "execution_count": 7,
   "id": "94250b13",
   "metadata": {
    "ExecuteTime": {
     "end_time": "2023-10-30T04:03:46.298647Z",
     "start_time": "2023-10-30T04:03:46.287030Z"
    },
    "id": "94250b13"
   },
   "outputs": [],
   "source": [
    "assert covariance(A).shape == (A.shape[1], A.shape[1])\n",
    "assert center_mass(A).shape == (A.shape[1],)\n",
    "assert np.allclose(covariance(A), covariance(A).T)"
   ]
  },
  {
   "cell_type": "code",
   "execution_count": 9,
   "id": "709a0581",
   "metadata": {
    "ExecuteTime": {
     "end_time": "2023-10-30T04:07:51.086655Z",
     "start_time": "2023-10-30T04:07:51.077371Z"
    },
    "id": "709a0581"
   },
   "outputs": [],
   "source": [
    "def eig_values(Q):\n",
    "    return np.linalg.eigh(Q)[0]\n",
    "\n",
    "def eig_vectors(Q):\n",
    "    return np.linalg.eigh(Q)[1]"
   ]
  },
  {
   "cell_type": "code",
   "execution_count": 10,
   "id": "dae559a8",
   "metadata": {
    "ExecuteTime": {
     "end_time": "2023-10-30T04:07:53.909916Z",
     "start_time": "2023-10-30T04:07:53.894284Z"
    },
    "id": "dae559a8"
   },
   "outputs": [],
   "source": [
    "Q = covariance(A)\n",
    "D, V = eig_values(Q), eig_vectors(Q)\n",
    "\n",
    "assert D.shape == (A.shape[1],)\n",
    "assert V.shape == (A.shape[1], A.shape[1])\n",
    "assert np.allclose(np.sort(D), D)\n",
    "assert np.allclose(V.T.dot(V), np.eye(A.shape[1]))\n",
    "assert np.allclose(V.dot(V.T), np.eye(A.shape[1]))\n",
    "assert np.allclose(np.trace(covariance(A)), D.sum())\n",
    "assert np.allclose(V.dot(np.diag(D)).dot(V.T), Q)"
   ]
  },
  {
   "cell_type": "markdown",
   "id": "4992e4d4",
   "metadata": {
    "id": "4992e4d4"
   },
   "source": [
    "Formula for pca: $A=U S V^T + {\\rm center\\space mass}$"
   ]
  },
  {
   "cell_type": "code",
   "execution_count": 11,
   "id": "6c680d2a",
   "metadata": {
    "ExecuteTime": {
     "end_time": "2023-10-30T04:10:03.102288Z",
     "start_time": "2023-10-30T04:10:03.093296Z"
    },
    "id": "6c680d2a"
   },
   "outputs": [],
   "source": [
    "def pca_decomposition(A, k: int): # n * p; k - features to stay\n",
    "    Q = covariance(A)\n",
    "    D = eig_values(Q)\n",
    "    V = eig_vectors(Q)\n",
    "    \n",
    "    S = np.diag(np.sqrt(D[:k]))\n",
    "    MA = center_mass(A)\n",
    "    A_norm = A - MA\n",
    "    U = (A_norm @ V @ np.diag(1/np.sqrt(D)))[:, :k]\n",
    "    V = V[:, :k]\n",
    "    return U, S, V, MA\n",
    "\n",
    "def pca_recover(U, S, V, MA):\n",
    "    return U @ S @ V.T + MA"
   ]
  },
  {
   "cell_type": "code",
   "execution_count": 12,
   "id": "fb82b247",
   "metadata": {
    "ExecuteTime": {
     "end_time": "2023-10-30T04:10:07.030061Z",
     "start_time": "2023-10-30T04:10:07.015829Z"
    },
    "id": "fb82b247"
   },
   "outputs": [],
   "source": [
    "k = 2\n",
    "U, S, V, MA = pca_decomposition(A, k)\n",
    "\n",
    "assert pca_recover(U, S, V, MA).shape == A.shape\n",
    "assert U.shape == (A.shape[0], k)\n",
    "assert S.shape == (k, k)\n",
    "assert V.shape == (A.shape[1], k)\n",
    "assert MA.shape == (A.shape[1],)\n",
    "assert np.allclose(S, np.diag(S.diagonal()))\n",
    "assert np.allclose(np.sort(S.diagonal()), S.diagonal())\n",
    "assert np.allclose(U.T.dot(U), np.eye(k))\n",
    "assert np.allclose(V.T.dot(V), np.eye(k))\n",
    "assert not np.allclose(V.dot(V.T), np.eye(V.shape[0]))\n",
    "assert not np.allclose(U.dot(U.T), np.eye(U.shape[0]))\n",
    "assert np.allclose(pca_recover(*pca_decomposition(A, A.shape[1])), A)"
   ]
  },
  {
   "cell_type": "code",
   "execution_count": 13,
   "id": "9f82804e",
   "metadata": {
    "ExecuteTime": {
     "end_time": "2023-10-30T04:10:26.461614Z",
     "start_time": "2023-10-30T04:10:26.448447Z"
    },
    "id": "9f82804e",
    "outputId": "6a22cb8d-4f95-4dc3-b201-b0cb23375d23"
   },
   "outputs": [
    {
     "name": "stdout",
     "output_type": "stream",
     "text": [
      "40.05 39.49 34.95 28.21 14.83 0.00\n"
     ]
    }
   ],
   "source": [
    "frobenius_norms = []\n",
    "\n",
    "for k in range(0, 6):\n",
    "    U, S, V, MA = pca_decomposition(A, k)\n",
    "    AA = pca_recover(U, S, V, MA)\n",
    "    frobenius_norms.append(np.sum((A-AA)**2))\n",
    "\n",
    "print(*[\"{:.2f}\".format(x) for x in frobenius_norms])\n",
    "\n",
    "# assert np.allclose(frobenius_norms[::-1], [0] + list(np.cumsum(eig_values(covariance(A)))))"
   ]
  },
  {
   "cell_type": "code",
   "execution_count": 42,
   "id": "b4a66295",
   "metadata": {
    "ExecuteTime": {
     "end_time": "2023-10-27T04:34:24.446638Z",
     "start_time": "2023-10-27T04:34:24.435107Z"
    }
   },
   "outputs": [
    {
     "data": {
      "text/plain": [
       "([5.983719892465313e-30,\n",
       "  18.414033879667848,\n",
       "  28.114777666038783,\n",
       "  34.93135044219111,\n",
       "  39.00990768097294,\n",
       "  39.60515224069629],\n",
       " [0,\n",
       "  0.5952445597233639,\n",
       "  4.673801798505189,\n",
       "  11.490374574657517,\n",
       "  21.191118361028447,\n",
       "  39.605152240696285])"
      ]
     },
     "execution_count": 42,
     "metadata": {},
     "output_type": "execute_result"
    }
   ],
   "source": [
    "frobenius_norms[::-1], [0] + list(np.cumsum(eig_values(covariance(A))))"
   ]
  },
  {
   "cell_type": "markdown",
   "id": "7765a21c",
   "metadata": {
    "id": "7765a21c"
   },
   "source": [
    "# SVD\n",
    "\n",
    "Formula for svd: $A=U S V^T$"
   ]
  },
  {
   "cell_type": "code",
   "execution_count": 14,
   "id": "7832fe1e",
   "metadata": {
    "ExecuteTime": {
     "end_time": "2023-10-30T04:12:04.637311Z",
     "start_time": "2023-10-30T04:12:04.622336Z"
    },
    "id": "7832fe1e"
   },
   "outputs": [],
   "source": [
    "def svd_decomposition(A, k: int): # n * p; k - features to stay\n",
    "    Q = covariance(A)\n",
    "    D = eig_values(Q)\n",
    "    V = eig_vectors(Q)\n",
    "    p = A.shape[1]\n",
    "    l = k # features to stay\n",
    "    S = np.diag(np.sqrt(D[:l]))\n",
    "    A_norm = A\n",
    "    U = (A_norm @ V @ np.diag(1/np.sqrt(D)))[:, :l]\n",
    "    V = V[:, :l]\n",
    "    return U, S, V\n",
    "\n",
    "def svd_recover(U, S, V):\n",
    "    return U @ S @ V.T"
   ]
  },
  {
   "cell_type": "code",
   "execution_count": 46,
   "id": "ca7179f7",
   "metadata": {
    "ExecuteTime": {
     "end_time": "2023-10-27T04:36:01.089363Z",
     "start_time": "2023-10-27T04:36:01.058650Z"
    },
    "id": "ca7179f7"
   },
   "outputs": [
    {
     "ename": "AssertionError",
     "evalue": "",
     "output_type": "error",
     "traceback": [
      "\u001b[0;31m---------------------------------------------------------------------------\u001b[0m",
      "\u001b[0;31mAssertionError\u001b[0m                            Traceback (most recent call last)",
      "Input \u001b[0;32mIn [46]\u001b[0m, in \u001b[0;36m<cell line: 10>\u001b[0;34m()\u001b[0m\n\u001b[1;32m      8\u001b[0m \u001b[38;5;28;01massert\u001b[39;00m np\u001b[38;5;241m.\u001b[39mallclose(S, np\u001b[38;5;241m.\u001b[39mdiag(S\u001b[38;5;241m.\u001b[39mdiagonal()))\n\u001b[1;32m      9\u001b[0m \u001b[38;5;28;01massert\u001b[39;00m np\u001b[38;5;241m.\u001b[39mallclose(np\u001b[38;5;241m.\u001b[39msort(S\u001b[38;5;241m.\u001b[39mdiagonal()), S\u001b[38;5;241m.\u001b[39mdiagonal())\n\u001b[0;32m---> 10\u001b[0m \u001b[38;5;28;01massert\u001b[39;00m np\u001b[38;5;241m.\u001b[39mallclose(U\u001b[38;5;241m.\u001b[39mT\u001b[38;5;241m.\u001b[39mdot(U), np\u001b[38;5;241m.\u001b[39meye(k))\n\u001b[1;32m     11\u001b[0m \u001b[38;5;28;01massert\u001b[39;00m np\u001b[38;5;241m.\u001b[39mallclose(V\u001b[38;5;241m.\u001b[39mT\u001b[38;5;241m.\u001b[39mdot(V), np\u001b[38;5;241m.\u001b[39meye(k))\n\u001b[1;32m     12\u001b[0m \u001b[38;5;28;01massert\u001b[39;00m \u001b[38;5;129;01mnot\u001b[39;00m np\u001b[38;5;241m.\u001b[39mallclose(V\u001b[38;5;241m.\u001b[39mdot(V\u001b[38;5;241m.\u001b[39mT), np\u001b[38;5;241m.\u001b[39meye(V\u001b[38;5;241m.\u001b[39mshape[\u001b[38;5;241m0\u001b[39m]))\n",
      "\u001b[0;31mAssertionError\u001b[0m: "
     ]
    }
   ],
   "source": [
    "k = 2\n",
    "U, S, V = svd_decomposition(A, k)\n",
    "\n",
    "assert svd_recover(U, S, V).shape == A.shape\n",
    "assert U.shape == (A.shape[0], k)\n",
    "assert S.shape == (k, k)\n",
    "assert V.shape == (A.shape[1], k)\n",
    "assert np.allclose(S, np.diag(S.diagonal()))\n",
    "assert np.allclose(np.sort(S.diagonal()), S.diagonal())\n",
    "assert np.allclose(U.T.dot(U), np.eye(k))\n",
    "assert np.allclose(V.T.dot(V), np.eye(k))\n",
    "assert not np.allclose(V.dot(V.T), np.eye(V.shape[0]))\n",
    "assert not np.allclose(U.dot(U.T), np.eye(U.shape[0]))\n",
    "assert np.allclose(svd_recover(*svd_decomposition(A, A.shape[1])), A)"
   ]
  },
  {
   "cell_type": "code",
   "execution_count": 15,
   "id": "855fc8f2",
   "metadata": {
    "ExecuteTime": {
     "end_time": "2023-10-30T04:12:12.185066Z",
     "start_time": "2023-10-30T04:12:12.171882Z"
    },
    "id": "855fc8f2",
    "outputId": "4910a9f2-25ae-423d-9efd-983420c9f55a"
   },
   "outputs": [
    {
     "name": "stdout",
     "output_type": "stream",
     "text": [
      "49.79 48.16 42.01 33.76 17.48 0.00\n"
     ]
    }
   ],
   "source": [
    "frobenius_norms = []\n",
    "for k in range(0, 6):\n",
    "    U, S, V = svd_decomposition(A, k)\n",
    "    AA = svd_recover(U, S, V)\n",
    "    frobenius_norms.append(np.sum((A-AA)**2))\n",
    "\n",
    "print(*[\"{:.2f}\".format(x) for x in frobenius_norms])\n",
    "# assert np.allclose(frobenius_norms[::-1], [0] + list(np.cumsum(eig_values(A.T.dot(A)))))"
   ]
  },
  {
   "cell_type": "markdown",
   "id": "73fb20be",
   "metadata": {
    "id": "73fb20be"
   },
   "source": [
    "# ALS"
   ]
  },
  {
   "cell_type": "code",
   "execution_count": 27,
   "id": "cd9b333c",
   "metadata": {
    "ExecuteTime": {
     "end_time": "2023-10-30T04:27:37.311228Z",
     "start_time": "2023-10-30T04:27:37.304928Z"
    },
    "id": "cd9b333c"
   },
   "outputs": [],
   "source": [
    "k = 2\n",
    "lam = 1e-4"
   ]
  },
  {
   "cell_type": "code",
   "execution_count": 28,
   "id": "ebb677c3",
   "metadata": {
    "ExecuteTime": {
     "end_time": "2023-10-30T04:27:37.578721Z",
     "start_time": "2023-10-30T04:27:37.569332Z"
    },
    "id": "ebb677c3"
   },
   "outputs": [],
   "source": [
    "def calc_oposite_vectors(Y, A):\n",
    "    B = Y.T @ Y + lam * np.eye(k)\n",
    "    C = A @ Y\n",
    "    return (np.linalg.inv(B) @ C.T).T"
   ]
  },
  {
   "cell_type": "code",
   "execution_count": 44,
   "id": "d359a96c",
   "metadata": {
    "ExecuteTime": {
     "end_time": "2023-10-30T04:41:24.958967Z",
     "start_time": "2023-10-30T04:41:24.869185Z"
    },
    "id": "d359a96c",
    "outputId": "47f29419-2981-4a0c-a7df-65579903c9b7"
   },
   "outputs": [
    {
     "name": "stdout",
     "output_type": "stream",
     "text": [
      "14.178250118805757\n"
     ]
    },
    {
     "data": {
      "image/png": "[encoded data removed]",
      "text/plain": [
       "<Figure size 432x288 with 1 Axes>"
      ]
     },
     "metadata": {
      "needs_background": "light"
     },
     "output_type": "display_data"
    }
   ],
   "source": [
    "def als_decomposition(A, k, lam, debug: bool = True):\n",
    "    X, Y = np.random.randn(A.shape[0], k), np.random.randn(A.shape[1], k)\n",
    "    if debug:\n",
    "        frobenius_norms = [np.sum((A - X.dot(Y.T))**2)]\n",
    "    else:\n",
    "        frobenius_norms = None\n",
    "\n",
    "    for i in range(20):\n",
    "        X = calc_oposite_vectors(Y, A)\n",
    "        if debug:\n",
    "            frobenius_norms.append(np.sum((A - X.dot(Y.T))**2))\n",
    "\n",
    "        Y = calc_oposite_vectors(X, A.T)\n",
    "        if debug:\n",
    "            frobenius_norms.append(np.sum((A - X.dot(Y.T))**2))\n",
    "        \n",
    "    return X, Y, frobenius_norms\n",
    "\n",
    "X, Y, frobenius_norms = als_decomposition(A, k, lam)\n",
    "plt.plot(frobenius_norms)\n",
    "plt.hlines(np.cumsum(eig_values(A.T.dot(A)))[A.shape[1]-k-1], 0, 20, color='black')\n",
    "\n",
    "print(frobenius_norms[-1])"
   ]
  },
  {
   "cell_type": "code",
   "execution_count": 45,
   "id": "0a19e669",
   "metadata": {
    "ExecuteTime": {
     "end_time": "2023-10-30T04:41:26.719619Z",
     "start_time": "2023-10-30T04:41:26.639826Z"
    },
    "id": "0a19e669",
    "outputId": "2e8e96ce-3390-44fc-9a24-2352e4054515"
   },
   "outputs": [
    {
     "data": {
      "text/plain": [
       "[<matplotlib.lines.Line2D at 0x1450c7b80>]"
      ]
     },
     "execution_count": 45,
     "metadata": {},
     "output_type": "execute_result"
    },
    {
     "data": {
      "image/png": "[encoded data removed]",
      "text/plain": [
       "<Figure size 432x288 with 1 Axes>"
      ]
     },
     "metadata": {
      "needs_background": "light"
     },
     "output_type": "display_data"
    }
   ],
   "source": [
    "plt.plot(np.log(frobenius_norms-np.cumsum(eig_values(A.T.dot(A)))[A.shape[1]-k-1]))"
   ]
  },
  {
   "cell_type": "code",
   "execution_count": 31,
   "id": "bc0005c7",
   "metadata": {
    "ExecuteTime": {
     "end_time": "2023-10-30T04:27:56.666570Z",
     "start_time": "2023-10-30T04:27:56.587631Z"
    },
    "id": "bc0005c7",
    "outputId": "63eb8373-8d99-416f-e32f-c446e38294ec",
    "scrolled": true
   },
   "outputs": [
    {
     "data": {
      "text/plain": [
       "<matplotlib.image.AxesImage at 0x127ee4e50>"
      ]
     },
     "execution_count": 31,
     "metadata": {},
     "output_type": "execute_result"
    },
    {
     "data": {
      "image/png": "[encoded data removed]",
      "text/plain": [
       "<Figure size 432x288 with 1 Axes>"
      ]
     },
     "metadata": {
      "needs_background": "light"
     },
     "output_type": "display_data"
    }
   ],
   "source": [
    "plt.imshow(X.dot(X.T))"
   ]
  },
  {
   "cell_type": "code",
   "execution_count": 33,
   "id": "47602e04",
   "metadata": {
    "ExecuteTime": {
     "end_time": "2023-10-30T04:31:55.635410Z",
     "start_time": "2023-10-30T04:31:55.554943Z"
    }
   },
   "outputs": [
    {
     "data": {
      "text/plain": [
       "<matplotlib.image.AxesImage at 0x127f58100>"
      ]
     },
     "execution_count": 33,
     "metadata": {},
     "output_type": "execute_result"
    },
    {
     "data": {
      "image/png": "[encoded data removed]",
      "text/plain": [
       "<Figure size 432x288 with 1 Axes>"
      ]
     },
     "metadata": {
      "needs_background": "light"
     },
     "output_type": "display_data"
    }
   ],
   "source": [
    "plt.imshow(Y.dot(Y.T))"
   ]
  },
  {
   "cell_type": "code",
   "execution_count": 35,
   "id": "d348096d",
   "metadata": {
    "ExecuteTime": {
     "end_time": "2023-10-30T04:34:35.307468Z",
     "start_time": "2023-10-30T04:34:35.279477Z"
    },
    "id": "d348096d"
   },
   "outputs": [
    {
     "ename": "AssertionError",
     "evalue": "",
     "output_type": "error",
     "traceback": [
      "\u001b[0;31m---------------------------------------------------------------------------\u001b[0m",
      "\u001b[0;31mAssertionError\u001b[0m                            Traceback (most recent call last)",
      "Input \u001b[0;32mIn [35]\u001b[0m, in \u001b[0;36m<cell line: 3>\u001b[0;34m()\u001b[0m\n\u001b[1;32m      1\u001b[0m AA_svd \u001b[38;5;241m=\u001b[39m svd_recover(\u001b[38;5;241m*\u001b[39msvd_decomposition(A, k))\n\u001b[1;32m      2\u001b[0m AA_als \u001b[38;5;241m=\u001b[39m X\u001b[38;5;241m.\u001b[39mdot(Y\u001b[38;5;241m.\u001b[39mT)\n\u001b[0;32m----> 3\u001b[0m \u001b[38;5;28;01massert\u001b[39;00m np\u001b[38;5;241m.\u001b[39mallclose(AA_svd, AA_als, rtol\u001b[38;5;241m=\u001b[39m\u001b[38;5;241m1e-3\u001b[39m, atol\u001b[38;5;241m=\u001b[39m\u001b[38;5;241m1e-3\u001b[39m)\n",
      "\u001b[0;31mAssertionError\u001b[0m: "
     ]
    }
   ],
   "source": [
    "AA_svd = svd_recover(*svd_decomposition(A, k))\n",
    "AA_als = X.dot(Y.T)\n",
    "assert np.allclose(AA_svd, AA_als, rtol=1e-3, atol=1e-3)"
   ]
  },
  {
   "cell_type": "markdown",
   "id": "5d58accb",
   "metadata": {},
   "source": [
    "## Compare SVD and ALS"
   ]
  },
  {
   "cell_type": "code",
   "execution_count": 50,
   "id": "6e3c8f4a",
   "metadata": {
    "ExecuteTime": {
     "end_time": "2023-10-30T04:44:37.837543Z",
     "start_time": "2023-10-30T04:44:37.830853Z"
    }
   },
   "outputs": [],
   "source": [
    "n_users = 10**8\n",
    "n_items = 3000"
   ]
  },
  {
   "cell_type": "code",
   "execution_count": 51,
   "id": "5c67020a",
   "metadata": {
    "ExecuteTime": {
     "end_time": "2023-10-30T04:46:18.261860Z",
     "start_time": "2023-10-30T04:44:40.368485Z"
    }
   },
   "outputs": [
    {
     "name": "stderr",
     "output_type": "stream",
     "text": [
      "/var/folders/cx/c_0x0d9s0ws_txrc3zdtxfq1lnj83m/T/ipykernel_36885/2036311295.py:7: RuntimeWarning: invalid value encountered in sqrt\n",
      "  S = np.diag(np.sqrt(D[:l]))\n",
      "/var/folders/cx/c_0x0d9s0ws_txrc3zdtxfq1lnj83m/T/ipykernel_36885/2036311295.py:9: RuntimeWarning: invalid value encountered in sqrt\n",
      "  U = (A_norm @ V @ np.diag(1/np.sqrt(D)))[:, :l]\n"
     ]
    },
    {
     "name": "stdout",
     "output_type": "stream",
     "text": [
      "12.5 s ± 1.39 s per loop (mean ± std. dev. of 7 runs, 1 loop each)\n"
     ]
    }
   ],
   "source": [
    "%%timeit\n",
    "B = np.random.randn(n_users, n_items)\n",
    "k = 2\n",
    "lam = 1e-4\n",
    "\n",
    "svd_decomposition(B, k)"
   ]
  },
  {
   "cell_type": "code",
   "execution_count": 52,
   "id": "96f8ac83",
   "metadata": {
    "ExecuteTime": {
     "end_time": "2023-10-30T04:46:38.078831Z",
     "start_time": "2023-10-30T04:46:24.941514Z"
    }
   },
   "outputs": [
    {
     "name": "stdout",
     "output_type": "stream",
     "text": [
      "165 ms ± 18 ms per loop (mean ± std. dev. of 7 runs, 10 loops each)\n"
     ]
    }
   ],
   "source": [
    "%%timeit\n",
    "B = np.random.randn(n_users, n_items)\n",
    "k = 2\n",
    "lam = 1e-4\n",
    "\n",
    "als_decomposition(B, k, lam, debug=False)"
   ]
  },
  {
   "cell_type": "markdown",
   "id": "b7468264",
   "metadata": {
    "id": "b7468264"
   },
   "source": [
    "# Music dataset\n",
    "\n",
    "Files to download:\n",
    "- Feedbacks matrix: https://disk.yandex.ru/d/cLbDbw3mCido_w\n",
    "- Item names: https://disk.yandex.ru/d/pPCaGJOqcpcABw\n",
    "- Item links: https://disk.yandex.ru/d/hMErnDJqtVm9HQ"
   ]
  },
  {
   "cell_type": "code",
   "execution_count": 6,
   "id": "51630f5f",
   "metadata": {
    "ExecuteTime": {
     "end_time": "2023-10-30T02:14:56.234522Z",
     "start_time": "2023-10-30T02:14:55.181631Z"
    },
    "id": "51630f5f"
   },
   "outputs": [],
   "source": [
    "import os, zipfile\n",
    "from tqdm.notebook import tqdm, tnrange\n",
    "import scipy.sparse as sp\n",
    "import pandas as pd"
   ]
  },
  {
   "cell_type": "code",
   "execution_count": 4,
   "id": "d2f2da9c",
   "metadata": {
    "ExecuteTime": {
     "end_time": "2023-10-30T02:14:15.585875Z",
     "start_time": "2023-10-30T02:14:15.504637Z"
    },
    "colab": {
     "referenced_widgets": [
      "5497060d8e744f3ea4c7de99afa14c53"
     ]
    },
    "id": "d2f2da9c",
    "outputId": "b7b20f53-1584-4135-c7ff-e94b9ffd8741"
   },
   "outputs": [
    {
     "data": {
      "application/vnd.jupyter.widget-view+json": {
       "model_id": "3884725d45654a38973a711dd9f38fab",
       "version_major": 2,
       "version_minor": 0
      },
      "text/plain": [
       "0it [00:00, ?it/s]"
      ]
     },
     "metadata": {},
     "output_type": "display_data"
    }
   ],
   "source": [
    "base_name = \"yt___home_music_recom_burlada_recsys_2022_02_19_\"\n",
    "\n",
    "for fname in tqdm([n for n in os.listdir(\".\") if base_name in n and n.endswith(\".zip\")]):\n",
    "    extract_name = fname.replace(\".zip\", \"\")\n",
    "    if os.path.exists(extract_name): continue\n",
    "    with zipfile.ZipFile(fname) as f:\n",
    "        f.extract(f.filelist[0])"
   ]
  },
  {
   "cell_type": "code",
   "execution_count": 7,
   "id": "90965805",
   "metadata": {
    "ExecuteTime": {
     "end_time": "2023-10-30T02:15:01.472041Z",
     "start_time": "2023-10-30T02:15:01.303212Z"
    },
    "id": "90965805"
   },
   "outputs": [
    {
     "ename": "ValueError",
     "evalue": "Expected object or value",
     "output_type": "error",
     "traceback": [
      "\u001b[0;31m---------------------------------------------------------------------------\u001b[0m",
      "\u001b[0;31mValueError\u001b[0m                                Traceback (most recent call last)",
      "Input \u001b[0;32mIn [7]\u001b[0m, in \u001b[0;36m<cell line: 1>\u001b[0;34m()\u001b[0m\n\u001b[0;32m----> 1\u001b[0m all_names \u001b[38;5;241m=\u001b[39m \u001b[43mpd\u001b[49m\u001b[38;5;241;43m.\u001b[39;49m\u001b[43mread_json\u001b[49m\u001b[43m(\u001b[49m\u001b[38;5;124;43m\"\u001b[39;49m\u001b[38;5;124;43myt___home_music_recom_burlada_recsys_2022_02_19_public_all_names\u001b[39;49m\u001b[38;5;124;43m\"\u001b[39;49m\u001b[43m,\u001b[49m\u001b[43m \u001b[49m\u001b[43mlines\u001b[49m\u001b[38;5;241;43m=\u001b[39;49m\u001b[38;5;28;43;01mTrue\u001b[39;49;00m\u001b[43m)\u001b[49m\n\u001b[1;32m      2\u001b[0m track_links \u001b[38;5;241m=\u001b[39m pd\u001b[38;5;241m.\u001b[39mread_json(\u001b[38;5;124m\"\u001b[39m\u001b[38;5;124myt___home_music_recom_burlada_recsys_2022_02_19_public_tracks_links\u001b[39m\u001b[38;5;124m\"\u001b[39m, lines\u001b[38;5;241m=\u001b[39m\u001b[38;5;28;01mTrue\u001b[39;00m)\n\u001b[1;32m      3\u001b[0m dataset \u001b[38;5;241m=\u001b[39m pd\u001b[38;5;241m.\u001b[39mread_json(\u001b[38;5;124m\"\u001b[39m\u001b[38;5;124myt___home_music_recom_burlada_recsys_2022_02_19_public_data_train\u001b[39m\u001b[38;5;124m\"\u001b[39m, lines\u001b[38;5;241m=\u001b[39m\u001b[38;5;28;01mTrue\u001b[39;00m)\n",
      "File \u001b[0;32m/opt/homebrew/Caskroom/miniconda/base/envs/sandbox/lib/python3.9/site-packages/pandas/util/_decorators.py:207\u001b[0m, in \u001b[0;36mdeprecate_kwarg.<locals>._deprecate_kwarg.<locals>.wrapper\u001b[0;34m(*args, **kwargs)\u001b[0m\n\u001b[1;32m    205\u001b[0m     \u001b[38;5;28;01melse\u001b[39;00m:\n\u001b[1;32m    206\u001b[0m         kwargs[new_arg_name] \u001b[38;5;241m=\u001b[39m new_arg_value\n\u001b[0;32m--> 207\u001b[0m \u001b[38;5;28;01mreturn\u001b[39;00m \u001b[43mfunc\u001b[49m\u001b[43m(\u001b[49m\u001b[38;5;241;43m*\u001b[39;49m\u001b[43margs\u001b[49m\u001b[43m,\u001b[49m\u001b[43m \u001b[49m\u001b[38;5;241;43m*\u001b[39;49m\u001b[38;5;241;43m*\u001b[39;49m\u001b[43mkwargs\u001b[49m\u001b[43m)\u001b[49m\n",
      "File \u001b[0;32m/opt/homebrew/Caskroom/miniconda/base/envs/sandbox/lib/python3.9/site-packages/pandas/util/_decorators.py:311\u001b[0m, in \u001b[0;36mdeprecate_nonkeyword_arguments.<locals>.decorate.<locals>.wrapper\u001b[0;34m(*args, **kwargs)\u001b[0m\n\u001b[1;32m    305\u001b[0m \u001b[38;5;28;01mif\u001b[39;00m \u001b[38;5;28mlen\u001b[39m(args) \u001b[38;5;241m>\u001b[39m num_allow_args:\n\u001b[1;32m    306\u001b[0m     warnings\u001b[38;5;241m.\u001b[39mwarn(\n\u001b[1;32m    307\u001b[0m         msg\u001b[38;5;241m.\u001b[39mformat(arguments\u001b[38;5;241m=\u001b[39marguments),\n\u001b[1;32m    308\u001b[0m         \u001b[38;5;167;01mFutureWarning\u001b[39;00m,\n\u001b[1;32m    309\u001b[0m         stacklevel\u001b[38;5;241m=\u001b[39mstacklevel,\n\u001b[1;32m    310\u001b[0m     )\n\u001b[0;32m--> 311\u001b[0m \u001b[38;5;28;01mreturn\u001b[39;00m \u001b[43mfunc\u001b[49m\u001b[43m(\u001b[49m\u001b[38;5;241;43m*\u001b[39;49m\u001b[43margs\u001b[49m\u001b[43m,\u001b[49m\u001b[43m \u001b[49m\u001b[38;5;241;43m*\u001b[39;49m\u001b[38;5;241;43m*\u001b[39;49m\u001b[43mkwargs\u001b[49m\u001b[43m)\u001b[49m\n",
      "File \u001b[0;32m/opt/homebrew/Caskroom/miniconda/base/envs/sandbox/lib/python3.9/site-packages/pandas/io/json/_json.py:612\u001b[0m, in \u001b[0;36mread_json\u001b[0;34m(path_or_buf, orient, typ, dtype, convert_axes, convert_dates, keep_default_dates, numpy, precise_float, date_unit, encoding, encoding_errors, lines, chunksize, compression, nrows, storage_options)\u001b[0m\n\u001b[1;32m    609\u001b[0m     \u001b[38;5;28;01mreturn\u001b[39;00m json_reader\n\u001b[1;32m    611\u001b[0m \u001b[38;5;28;01mwith\u001b[39;00m json_reader:\n\u001b[0;32m--> 612\u001b[0m     \u001b[38;5;28;01mreturn\u001b[39;00m \u001b[43mjson_reader\u001b[49m\u001b[38;5;241;43m.\u001b[39;49m\u001b[43mread\u001b[49m\u001b[43m(\u001b[49m\u001b[43m)\u001b[49m\n",
      "File \u001b[0;32m/opt/homebrew/Caskroom/miniconda/base/envs/sandbox/lib/python3.9/site-packages/pandas/io/json/_json.py:744\u001b[0m, in \u001b[0;36mJsonReader.read\u001b[0;34m(self)\u001b[0m\n\u001b[1;32m    742\u001b[0m         data \u001b[38;5;241m=\u001b[39m ensure_str(\u001b[38;5;28mself\u001b[39m\u001b[38;5;241m.\u001b[39mdata)\n\u001b[1;32m    743\u001b[0m         data_lines \u001b[38;5;241m=\u001b[39m data\u001b[38;5;241m.\u001b[39msplit(\u001b[38;5;124m\"\u001b[39m\u001b[38;5;130;01m\\n\u001b[39;00m\u001b[38;5;124m\"\u001b[39m)\n\u001b[0;32m--> 744\u001b[0m         obj \u001b[38;5;241m=\u001b[39m \u001b[38;5;28;43mself\u001b[39;49m\u001b[38;5;241;43m.\u001b[39;49m\u001b[43m_get_object_parser\u001b[49m\u001b[43m(\u001b[49m\u001b[38;5;28;43mself\u001b[39;49m\u001b[38;5;241;43m.\u001b[39;49m\u001b[43m_combine_lines\u001b[49m\u001b[43m(\u001b[49m\u001b[43mdata_lines\u001b[49m\u001b[43m)\u001b[49m\u001b[43m)\u001b[49m\n\u001b[1;32m    745\u001b[0m \u001b[38;5;28;01melse\u001b[39;00m:\n\u001b[1;32m    746\u001b[0m     obj \u001b[38;5;241m=\u001b[39m \u001b[38;5;28mself\u001b[39m\u001b[38;5;241m.\u001b[39m_get_object_parser(\u001b[38;5;28mself\u001b[39m\u001b[38;5;241m.\u001b[39mdata)\n",
      "File \u001b[0;32m/opt/homebrew/Caskroom/miniconda/base/envs/sandbox/lib/python3.9/site-packages/pandas/io/json/_json.py:768\u001b[0m, in \u001b[0;36mJsonReader._get_object_parser\u001b[0;34m(self, json)\u001b[0m\n\u001b[1;32m    766\u001b[0m obj \u001b[38;5;241m=\u001b[39m \u001b[38;5;28;01mNone\u001b[39;00m\n\u001b[1;32m    767\u001b[0m \u001b[38;5;28;01mif\u001b[39;00m typ \u001b[38;5;241m==\u001b[39m \u001b[38;5;124m\"\u001b[39m\u001b[38;5;124mframe\u001b[39m\u001b[38;5;124m\"\u001b[39m:\n\u001b[0;32m--> 768\u001b[0m     obj \u001b[38;5;241m=\u001b[39m \u001b[43mFrameParser\u001b[49m\u001b[43m(\u001b[49m\u001b[43mjson\u001b[49m\u001b[43m,\u001b[49m\u001b[43m \u001b[49m\u001b[38;5;241;43m*\u001b[39;49m\u001b[38;5;241;43m*\u001b[39;49m\u001b[43mkwargs\u001b[49m\u001b[43m)\u001b[49m\u001b[38;5;241;43m.\u001b[39;49m\u001b[43mparse\u001b[49m\u001b[43m(\u001b[49m\u001b[43m)\u001b[49m\n\u001b[1;32m    770\u001b[0m \u001b[38;5;28;01mif\u001b[39;00m typ \u001b[38;5;241m==\u001b[39m \u001b[38;5;124m\"\u001b[39m\u001b[38;5;124mseries\u001b[39m\u001b[38;5;124m\"\u001b[39m \u001b[38;5;129;01mor\u001b[39;00m obj \u001b[38;5;129;01mis\u001b[39;00m \u001b[38;5;28;01mNone\u001b[39;00m:\n\u001b[1;32m    771\u001b[0m     \u001b[38;5;28;01mif\u001b[39;00m \u001b[38;5;129;01mnot\u001b[39;00m \u001b[38;5;28misinstance\u001b[39m(dtype, \u001b[38;5;28mbool\u001b[39m):\n",
      "File \u001b[0;32m/opt/homebrew/Caskroom/miniconda/base/envs/sandbox/lib/python3.9/site-packages/pandas/io/json/_json.py:880\u001b[0m, in \u001b[0;36mParser.parse\u001b[0;34m(self)\u001b[0m\n\u001b[1;32m    878\u001b[0m     \u001b[38;5;28mself\u001b[39m\u001b[38;5;241m.\u001b[39m_parse_numpy()\n\u001b[1;32m    879\u001b[0m \u001b[38;5;28;01melse\u001b[39;00m:\n\u001b[0;32m--> 880\u001b[0m     \u001b[38;5;28;43mself\u001b[39;49m\u001b[38;5;241;43m.\u001b[39;49m\u001b[43m_parse_no_numpy\u001b[49m\u001b[43m(\u001b[49m\u001b[43m)\u001b[49m\n\u001b[1;32m    882\u001b[0m \u001b[38;5;28;01mif\u001b[39;00m \u001b[38;5;28mself\u001b[39m\u001b[38;5;241m.\u001b[39mobj \u001b[38;5;129;01mis\u001b[39;00m \u001b[38;5;28;01mNone\u001b[39;00m:\n\u001b[1;32m    883\u001b[0m     \u001b[38;5;28;01mreturn\u001b[39;00m \u001b[38;5;28;01mNone\u001b[39;00m\n",
      "File \u001b[0;32m/opt/homebrew/Caskroom/miniconda/base/envs/sandbox/lib/python3.9/site-packages/pandas/io/json/_json.py:1133\u001b[0m, in \u001b[0;36mFrameParser._parse_no_numpy\u001b[0;34m(self)\u001b[0m\n\u001b[1;32m   1129\u001b[0m orient \u001b[38;5;241m=\u001b[39m \u001b[38;5;28mself\u001b[39m\u001b[38;5;241m.\u001b[39morient\n\u001b[1;32m   1131\u001b[0m \u001b[38;5;28;01mif\u001b[39;00m orient \u001b[38;5;241m==\u001b[39m \u001b[38;5;124m\"\u001b[39m\u001b[38;5;124mcolumns\u001b[39m\u001b[38;5;124m\"\u001b[39m:\n\u001b[1;32m   1132\u001b[0m     \u001b[38;5;28mself\u001b[39m\u001b[38;5;241m.\u001b[39mobj \u001b[38;5;241m=\u001b[39m DataFrame(\n\u001b[0;32m-> 1133\u001b[0m         \u001b[43mloads\u001b[49m\u001b[43m(\u001b[49m\u001b[43mjson\u001b[49m\u001b[43m,\u001b[49m\u001b[43m \u001b[49m\u001b[43mprecise_float\u001b[49m\u001b[38;5;241;43m=\u001b[39;49m\u001b[38;5;28;43mself\u001b[39;49m\u001b[38;5;241;43m.\u001b[39;49m\u001b[43mprecise_float\u001b[49m\u001b[43m)\u001b[49m, dtype\u001b[38;5;241m=\u001b[39m\u001b[38;5;28;01mNone\u001b[39;00m\n\u001b[1;32m   1134\u001b[0m     )\n\u001b[1;32m   1135\u001b[0m \u001b[38;5;28;01melif\u001b[39;00m orient \u001b[38;5;241m==\u001b[39m \u001b[38;5;124m\"\u001b[39m\u001b[38;5;124msplit\u001b[39m\u001b[38;5;124m\"\u001b[39m:\n\u001b[1;32m   1136\u001b[0m     decoded \u001b[38;5;241m=\u001b[39m {\n\u001b[1;32m   1137\u001b[0m         \u001b[38;5;28mstr\u001b[39m(k): v\n\u001b[1;32m   1138\u001b[0m         \u001b[38;5;28;01mfor\u001b[39;00m k, v \u001b[38;5;129;01min\u001b[39;00m loads(json, precise_float\u001b[38;5;241m=\u001b[39m\u001b[38;5;28mself\u001b[39m\u001b[38;5;241m.\u001b[39mprecise_float)\u001b[38;5;241m.\u001b[39mitems()\n\u001b[1;32m   1139\u001b[0m     }\n",
      "\u001b[0;31mValueError\u001b[0m: Expected object or value"
     ]
    }
   ],
   "source": [
    "all_names = pd.read_json(\"yt___home_music_recom_burlada_recsys_2022_02_19_public_all_names\", lines=True)\n",
    "track_links = pd.read_json(\"yt___home_music_recom_burlada_recsys_2022_02_19_public_tracks_links\", lines=True)\n",
    "dataset = pd.read_json(\"yt___home_music_recom_burlada_recsys_2022_02_19_public_data_train\", lines=True)"
   ]
  },
  {
   "cell_type": "code",
   "execution_count": null,
   "id": "6e7c549f",
   "metadata": {
    "id": "6e7c549f",
    "outputId": "a6f3b564-7a09-4235-972c-817c1ae68938",
    "scrolled": true
   },
   "outputs": [
    {
     "data": {
      "text/html": [
       "<div>\n",
       "<style scoped>\n",
       "    .dataframe tbody tr th:only-of-type {\n",
       "        vertical-align: middle;\n",
       "    }\n",
       "\n",
       "    .dataframe tbody tr th {\n",
       "        vertical-align: top;\n",
       "    }\n",
       "\n",
       "    .dataframe thead th {\n",
       "        text-align: right;\n",
       "    }\n",
       "</style>\n",
       "<table border=\"1\" class=\"dataframe\">\n",
       "  <thead>\n",
       "    <tr style=\"text-align: right;\">\n",
       "      <th></th>\n",
       "      <th>user_id</th>\n",
       "      <th>track_ids</th>\n",
       "    </tr>\n",
       "  </thead>\n",
       "  <tbody>\n",
       "    <tr>\n",
       "      <th>0</th>\n",
       "      <td>0</td>\n",
       "      <td>[99262, 589498, 590262, 590303, 590692, 590803...</td>\n",
       "    </tr>\n",
       "    <tr>\n",
       "      <th>1</th>\n",
       "      <td>1</td>\n",
       "      <td>[24417, 108208, 108209, 592642, 628687, 733449...</td>\n",
       "    </tr>\n",
       "    <tr>\n",
       "      <th>2</th>\n",
       "      <td>2</td>\n",
       "      <td>[264937, 672689, 4321285, 5335351, 5658525, 58...</td>\n",
       "    </tr>\n",
       "    <tr>\n",
       "      <th>3</th>\n",
       "      <td>3</td>\n",
       "      <td>[6006252, 21642261, 21642265, 24692821, 259952...</td>\n",
       "    </tr>\n",
       "    <tr>\n",
       "      <th>4</th>\n",
       "      <td>4</td>\n",
       "      <td>[966, 4094, 9760, 9769, 18392, 19042, 21184, 2...</td>\n",
       "    </tr>\n",
       "    <tr>\n",
       "      <th>...</th>\n",
       "      <td>...</td>\n",
       "      <td>...</td>\n",
       "    </tr>\n",
       "    <tr>\n",
       "      <th>1373216</th>\n",
       "      <td>1374578</td>\n",
       "      <td>[24692821, 29544272, 29904955, 33236014, 33311...</td>\n",
       "    </tr>\n",
       "    <tr>\n",
       "      <th>1373217</th>\n",
       "      <td>1374579</td>\n",
       "      <td>[54994, 106259, 240171, 245392, 340459, 560468...</td>\n",
       "    </tr>\n",
       "    <tr>\n",
       "      <th>1373218</th>\n",
       "      <td>1374580</td>\n",
       "      <td>[18860, 33273, 33627, 43115, 43119, 43127, 456...</td>\n",
       "    </tr>\n",
       "    <tr>\n",
       "      <th>1373219</th>\n",
       "      <td>1374581</td>\n",
       "      <td>[1062, 37615, 40193, 65011, 69400, 117391, 366...</td>\n",
       "    </tr>\n",
       "    <tr>\n",
       "      <th>1373220</th>\n",
       "      <td>1374582</td>\n",
       "      <td>[106716, 638604, 666207, 711243, 2192958, 2214...</td>\n",
       "    </tr>\n",
       "  </tbody>\n",
       "</table>\n",
       "<p>1373221 rows × 2 columns</p>\n",
       "</div>"
      ],
      "text/plain": [
       "         user_id                                          track_ids\n",
       "0              0  [99262, 589498, 590262, 590303, 590692, 590803...\n",
       "1              1  [24417, 108208, 108209, 592642, 628687, 733449...\n",
       "2              2  [264937, 672689, 4321285, 5335351, 5658525, 58...\n",
       "3              3  [6006252, 21642261, 21642265, 24692821, 259952...\n",
       "4              4  [966, 4094, 9760, 9769, 18392, 19042, 21184, 2...\n",
       "...          ...                                                ...\n",
       "1373216  1374578  [24692821, 29544272, 29904955, 33236014, 33311...\n",
       "1373217  1374579  [54994, 106259, 240171, 245392, 340459, 560468...\n",
       "1373218  1374580  [18860, 33273, 33627, 43115, 43119, 43127, 456...\n",
       "1373219  1374581  [1062, 37615, 40193, 65011, 69400, 117391, 366...\n",
       "1373220  1374582  [106716, 638604, 666207, 711243, 2192958, 2214...\n",
       "\n",
       "[1373221 rows x 2 columns]"
      ]
     },
     "execution_count": 426,
     "metadata": {},
     "output_type": "execute_result"
    }
   ],
   "source": [
    "dataset"
   ]
  },
  {
   "cell_type": "code",
   "execution_count": null,
   "id": "f7edc62d",
   "metadata": {
    "id": "f7edc62d"
   },
   "outputs": [],
   "source": [
    "user_coo = [u for u, tracks in tqdm(dataset.iterrows()) for t in tracks.track_ids]\n",
    "item_coo = [t for u, tracks in tqdm(dataset.iterrows()) for t in tracks.track_ids]\n",
    "shape = (max(user_coo) + 1, max(item_coo) + 1)\n",
    "user_item_matrix = sp.coo_matrix((np.ones(len(user_coo)), (user_coo, item_coo)), shape=shape)\n",
    "user_item_matrix = user_item_matrix.tocsr()\n",
    "sp.save_npz(\"data_train.npz\", user_item_matrix)"
   ]
  },
  {
   "cell_type": "code",
   "execution_count": null,
   "id": "2c28f27f",
   "metadata": {
    "colab": {
     "referenced_widgets": [
      "5d1fe7249f36453ea55be3154245f23c"
     ]
    },
    "id": "2c28f27f",
    "outputId": "a956aa6f-1e83-4b36-b4f8-034aa0cd47bb"
   },
   "outputs": [
    {
     "data": {
      "application/vnd.jupyter.widget-view+json": {
       "model_id": "5d1fe7249f36453ea55be3154245f23c",
       "version_major": 2,
       "version_minor": 0
      },
      "text/plain": [
       "  0%|          | 0/101521820 [00:00<?, ?it/s]"
      ]
     },
     "metadata": {},
     "output_type": "display_data"
    }
   ],
   "source": [
    "item_weights = np.array(user_item_matrix.tocsc().sum(0))[0]\n",
    "top_to_bottom_order = np.argsort(-item_weights)\n",
    "item_mapping = {t:p for p, t in enumerate(tqdm(top_to_bottom_order))}\n",
    "total_item_count = (item_weights > 0).sum()\n",
    "total_user_count = user_item_matrix.shape[0]\n",
    "\n",
    "def build_dataset(user_item_matrix, item_pct, user_pct):\n",
    "    user_count, item_count = int(total_user_count * user_pct), int(total_item_count * item_pct)\n",
    "    item_ids = top_to_bottom_order[:item_count]\n",
    "    user_ids = np.random.choice(np.arange(user_item_matrix.shape[0]), size=user_count, replace=False)\n",
    "    train = user_item_matrix[user_ids]\n",
    "    train = train[:, item_ids]\n",
    "    return train"
   ]
  },
  {
   "cell_type": "code",
   "execution_count": null,
   "id": "686636b3",
   "metadata": {
    "id": "686636b3"
   },
   "outputs": [],
   "source": [
    "small_dataset = build_dataset(user_item_matrix, 0.05, 0.05)"
   ]
  },
  {
   "cell_type": "code",
   "execution_count": null,
   "id": "d7e2ed41",
   "metadata": {
    "id": "d7e2ed41"
   },
   "outputs": [],
   "source": [
    "from implicit.nearest_neighbours import ItemItemRecommender"
   ]
  },
  {
   "cell_type": "code",
   "execution_count": null,
   "id": "4caa59d0",
   "metadata": {
    "id": "4caa59d0"
   },
   "outputs": [],
   "source": [
    "recommender = ItemItemRecommender()"
   ]
  },
  {
   "cell_type": "code",
   "execution_count": null,
   "id": "95577dba",
   "metadata": {
    "colab": {
     "referenced_widgets": [
      "5ce50bd2f82a408dae2ffd5904500556"
     ]
    },
    "id": "95577dba",
    "outputId": "89290e03-6060-4950-8d22-27931ba44cf9"
   },
   "outputs": [
    {
     "data": {
      "application/vnd.jupyter.widget-view+json": {
       "model_id": "5ce50bd2f82a408dae2ffd5904500556",
       "version_major": 2,
       "version_minor": 0
      },
      "text/plain": [
       "  0%|          | 0/50000 [00:00<?, ?it/s]"
      ]
     },
     "metadata": {},
     "output_type": "display_data"
    }
   ],
   "source": [
    "recommender.fit(small_dataset)"
   ]
  },
  {
   "cell_type": "code",
   "execution_count": null,
   "id": "e3d0dda8",
   "metadata": {
    "id": "e3d0dda8",
    "outputId": "ab62c211-1027-42fd-d30f-aca79432c616"
   },
   "outputs": [
    {
     "data": {
      "text/plain": [
       "[54302022,\n",
       " 17530540,\n",
       " 29732355,\n",
       " 178529,\n",
       " 33311009,\n",
       " 53404,\n",
       " 51241318,\n",
       " 328683,\n",
       " 57043164,\n",
       " 29544272]"
      ]
     },
     "execution_count": 450,
     "metadata": {},
     "output_type": "execute_result"
    }
   ],
   "source": [
    "[top_to_bottom_order[k] for k in recommender.similar_items(item_mapping[54302022])[0]]"
   ]
  },
  {
   "cell_type": "code",
   "execution_count": null,
   "id": "cacb3008",
   "metadata": {
    "id": "cacb3008"
   },
   "outputs": [],
   "source": []
  }
 ],
 "metadata": {
  "colab": {
   "provenance": []
  },
  "finalized": {
   "timestamp": 1698632044336,
   "trusted": false
  },
  "kernelspec": {
   "display_name": "Python [conda env:sandbox]",
   "language": "python",
   "name": "conda-env-sandbox-py"
  },
  "language_info": {
   "codemirror_mode": {
    "name": "ipython",
    "version": 3
   },
   "file_extension": ".py",
   "mimetype": "text/x-python",
   "name": "python",
   "nbconvert_exporter": "python",
   "pygments_lexer": "ipython3",
   "version": "3.9.12"
  },
  "toc": {
   "base_numbering": 1,
   "nav_menu": {},
   "number_sections": true,
   "sideBar": true,
   "skip_h1_title": false,
   "title_cell": "Table of Contents",
   "title_sidebar": "Contents",
   "toc_cell": false,
   "toc_position": {
    "height": "calc(100% - 180px)",
    "left": "10px",
    "top": "150px",
    "width": "241.919px"
   },
   "toc_section_display": true,
   "toc_window_display": true
  }
 },
 "nbformat": 4,
 "nbformat_minor": 5
}
