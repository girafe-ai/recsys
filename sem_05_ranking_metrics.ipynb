{
 "cells": [
  {
   "cell_type": "markdown",
   "id": "5b49da89",
   "metadata": {
    "id": "5b49da89"
   },
   "source": [
    "# Measuring quality"
   ]
  },
  {
   "cell_type": "code",
   "execution_count": 1,
   "id": "a7923cbe",
   "metadata": {
    "ExecuteTime": {
     "end_time": "2023-11-02T03:59:39.489610Z",
     "start_time": "2023-11-02T03:59:39.385690Z"
    },
    "id": "a7923cbe"
   },
   "outputs": [],
   "source": [
    "import math\n",
    "from collections import namedtuple\n",
    "import typing as tp\n",
    "import numpy as np"
   ]
  },
  {
   "cell_type": "markdown",
   "id": "e5d48085",
   "metadata": {
    "id": "e5d48085"
   },
   "source": [
    "### Precision@K\n",
    "\n"
   ]
  },
  {
   "cell_type": "code",
   "execution_count": 2,
   "id": "4e08c27e",
   "metadata": {
    "ExecuteTime": {
     "end_time": "2023-11-02T04:09:45.530678Z",
     "start_time": "2023-11-02T04:09:45.521765Z"
    },
    "id": "4e08c27e"
   },
   "outputs": [],
   "source": [
    "def precicionAtK(actual: tp.List[int], predicted: tp.List[float], k: int) -> float:\n",
    "    if k == 0:\n",
    "        return 0.0\n",
    "    \n",
    "    pos_label = max(actual)\n",
    "    \n",
    "    if pos_label == 0:\n",
    "        return 0.0\n",
    "\n",
    "    predicted = np.argsort(predicted)[::-1]\n",
    "    actual = np.take(actual, predicted[:k])\n",
    "    number_of_relevant = np.sum(actual == pos_label)\n",
    "    return number_of_relevant / k"
   ]
  },
  {
   "cell_type": "code",
   "execution_count": 3,
   "id": "4063ec55",
   "metadata": {
    "ExecuteTime": {
     "end_time": "2023-11-02T04:09:47.084214Z",
     "start_time": "2023-11-02T04:09:47.078656Z"
    },
    "id": "4063ec55"
   },
   "outputs": [],
   "source": [
    "PrecisionTestCase = namedtuple('precision_at_k', ['actual', 'predicted', 'k', 'ans'])"
   ]
  },
  {
   "cell_type": "code",
   "execution_count": 4,
   "id": "c6706fe7",
   "metadata": {
    "ExecuteTime": {
     "end_time": "2023-11-02T04:09:47.856257Z",
     "start_time": "2023-11-02T04:09:47.844980Z"
    },
    "id": "c6706fe7"
   },
   "outputs": [],
   "source": [
    "precision_tests = [\n",
    "                   PrecisionTestCase([0,1,1], [0.67, 0.88, 0.66], 3, 0.66),\n",
    "                   PrecisionTestCase([0,1,1], [0.67, 0.88, 0.66], 2, 0.5),\n",
    "                   PrecisionTestCase([0,1,1], [0.67, 0.88, 0.66], 1, 1.0),\n",
    "                   PrecisionTestCase([0,0,0], [0.67, 0.88, 0.66], 3, 0.0),\n",
    "                   PrecisionTestCase([0,1,1], [0.88, 0.67, 0.66], 1, 0.0),\n",
    "                   PrecisionTestCase([0,1,1,1], [0.67, 0.88, 0.66, 0.6], 3, 0.66),\n",
    "                  ]"
   ]
  },
  {
   "cell_type": "code",
   "execution_count": 5,
   "id": "804b8730",
   "metadata": {
    "ExecuteTime": {
     "end_time": "2023-11-02T04:09:53.669547Z",
     "start_time": "2023-11-02T04:09:53.661575Z"
    },
    "id": "804b8730"
   },
   "outputs": [],
   "source": [
    "for case in precision_tests:\n",
    "    result = precicionAtK(case.actual, case.predicted, case.k)\n",
    "    assert math.isclose(case.ans, result, rel_tol=0.01), f\"{result}!= {case.ans}\""
   ]
  },
  {
   "cell_type": "markdown",
   "id": "ba04f125",
   "metadata": {
    "id": "ba04f125"
   },
   "source": [
    "###  Average Precision@K\n",
    "\n",
    "![image-3.png](attachment:image-3.png)"
   ]
  },
  {
   "cell_type": "code",
   "execution_count": 6,
   "id": "4061fc7a",
   "metadata": {
    "ExecuteTime": {
     "end_time": "2023-11-02T04:13:27.501637Z",
     "start_time": "2023-11-02T04:13:27.490225Z"
    },
    "id": "4061fc7a"
   },
   "outputs": [],
   "source": [
    "def averagePrecisionAtK(y_true: tp.List[int], y_score: tp.List[float], k: int) -> float:\n",
    "    pos_label = max(y_true)\n",
    "\n",
    "    if pos_label == 0:\n",
    "        return 0.0\n",
    "\n",
    "    n_pos = y_true.count(pos_label)\n",
    "\n",
    "    order = np.argsort(y_score)[::-1][:k]\n",
    "    y_true = np.asarray(y_true)[order]\n",
    "    score = 0\n",
    "    for i in range(len(y_true)):\n",
    "        if y_true[i] == pos_label:\n",
    "            prec = 0\n",
    "            for j in range(0, i + 1):\n",
    "                if y_true[j] == pos_label:\n",
    "                    prec += 1.0\n",
    "            prec /= (i + 1.0)\n",
    "            score += prec\n",
    "\n",
    "    if n_pos == 0:\n",
    "        return 0\n",
    "\n",
    "    return score / n_pos"
   ]
  },
  {
   "cell_type": "code",
   "execution_count": 7,
   "id": "db4456a6",
   "metadata": {
    "ExecuteTime": {
     "end_time": "2023-11-02T04:13:31.164435Z",
     "start_time": "2023-11-02T04:13:31.150424Z"
    },
    "id": "db4456a6"
   },
   "outputs": [],
   "source": [
    "ApkTestCase = namedtuple('Avgprecision_at_k', ['actual', 'predicted', 'k', 'ans'])\n",
    "\n",
    "avg_precision_at_k_test_cases = [\n",
    "                                 ApkTestCase([0,1,1], [0.88, 0.67, 0.66], 3, 0.58),\n",
    "                                 ApkTestCase([0,0,0], [0.88, 0.67, 0.66], 3, 0.0),\n",
    "                                 ApkTestCase([1,0,0], [0.88, 0.67, 0.66], 3, 1.0),\n",
    "                                 ApkTestCase([1,0,0], [0.88, 0.67, 0.66], 1, 1.0),\n",
    "                                 ApkTestCase([1,0,1], [0.3, 0.7, 0.6], 3, 0.58)\n",
    "                                ]\n",
    "\n",
    "for case in avg_precision_at_k_test_cases:\n",
    "    result = averagePrecisionAtK(case.actual, case.predicted, case.k)\n",
    "    assert math.isclose(case.ans, result, rel_tol=0.01), f\"{result}!= {case.ans}\""
   ]
  },
  {
   "cell_type": "markdown",
   "id": "d9362488",
   "metadata": {
    "id": "d9362488"
   },
   "source": [
    "# Mean Average Precision@K\n",
    "\n"
   ]
  },
  {
   "cell_type": "code",
   "execution_count": 8,
   "id": "6cff87de",
   "metadata": {
    "ExecuteTime": {
     "end_time": "2023-11-02T04:13:41.703937Z",
     "start_time": "2023-11-02T04:13:41.698331Z"
    },
    "id": "6cff87de"
   },
   "outputs": [],
   "source": [
    "def meanAveragePrecisionAtK(actual: tp.List[tp.List[int]], predicted: tp.List[tp.List[float]], k: int) -> float:\n",
    "    return np.mean([averagePrecisionAtK(a, p, k) for a, p in zip(actual, predicted)])"
   ]
  },
  {
   "cell_type": "markdown",
   "id": "5a2fc273",
   "metadata": {
    "id": "5a2fc273"
   },
   "source": [
    "#  Discounted Cumulative Gain\n"
   ]
  },
  {
   "cell_type": "code",
   "execution_count": 10,
   "id": "9e83967d",
   "metadata": {
    "ExecuteTime": {
     "end_time": "2023-11-02T04:18:58.649994Z",
     "start_time": "2023-11-02T04:18:58.640878Z"
    },
    "id": "9e83967d"
   },
   "outputs": [],
   "source": [
    "def discountedCumulativeGainAtK(actual: tp.List[int], predicted: tp.List[float], k: int) -> float:\n",
    "    order = np.argsort(predicted)[::-1]\n",
    "    actual = np.take(actual, order[:k])\n",
    "    discounts = np.log2(np.arange(len(actual)) + 2)\n",
    "    return np.sum(actual / discounts)"
   ]
  },
  {
   "cell_type": "code",
   "execution_count": 11,
   "id": "a893984e",
   "metadata": {
    "ExecuteTime": {
     "end_time": "2023-11-02T04:19:00.487009Z",
     "start_time": "2023-11-02T04:19:00.471264Z"
    },
    "id": "a893984e"
   },
   "outputs": [],
   "source": [
    "DCGTestCase = namedtuple('DCG_at_k', ['actual', 'predicted', 'k', 'ans'])\n",
    "\n",
    "dcg_test_cases = [\n",
    "                DCGTestCase([3,2,1,0], [2,3,1,0], 3, 4.39),\n",
    "                DCGTestCase([3,2,1,0], [3,2,1,0], 3, 4.76),\n",
    "                DCGTestCase([3,2,1,0], [0,1,2,3], 3, 1.63),\n",
    "                DCGTestCase([3,2,1,0], [0,1,2,3], 2, 0.63),\n",
    "]\n",
    "\n",
    "for case in dcg_test_cases:\n",
    "    result = discountedCumulativeGainAtK(case.actual, case.predicted, case.k)\n",
    "    assert math.isclose(case.ans, result, rel_tol=0.01), f\"{result}!= {case.ans}\""
   ]
  },
  {
   "cell_type": "markdown",
   "id": "5fafa471",
   "metadata": {
    "id": "5fafa471"
   },
   "source": [
    "### follow up - parametrizedDCG\n"
   ]
  },
  {
   "cell_type": "code",
   "execution_count": 12,
   "id": "1ae06f25",
   "metadata": {
    "ExecuteTime": {
     "end_time": "2023-11-02T04:19:54.265898Z",
     "start_time": "2023-11-02T04:19:54.255601Z"
    },
    "id": "1ae06f25"
   },
   "outputs": [],
   "source": [
    "def parametrizedDCG(actual: tp.List[int], predicted: tp.List[float], k: int=1, gain_type: str='linear') -> float:\n",
    "    order = np.argsort(predicted)[::-1]\n",
    "    actual = np.take(actual, order[:k])\n",
    "\n",
    "    if gain_type == 'nonlinear':\n",
    "        gains = np.power(2, actual)-1\n",
    "    else:\n",
    "        gains = actual\n",
    "\n",
    "    discounts = np.log2(np.arange(len(actual)) + 2)\n",
    "    return np.sum(gains / discounts)"
   ]
  },
  {
   "cell_type": "code",
   "execution_count": 13,
   "id": "506f1e41",
   "metadata": {
    "ExecuteTime": {
     "end_time": "2023-11-02T04:19:55.518894Z",
     "start_time": "2023-11-02T04:19:55.505298Z"
    },
    "id": "506f1e41"
   },
   "outputs": [],
   "source": [
    "ParamDCGTestCase = namedtuple('ParamDCG_at_k', ['actual', 'predicted', 'k', 'gain_type' ,'ans'])\n",
    "\n",
    "param_dcg_test_cases = [\n",
    "                ParamDCGTestCase([3,2,1,0], [2,3,1,0], 3,'linear', 4.39),\n",
    "                ParamDCGTestCase([3,2,1,0], [2,3,1,0], 3,'nonlinear', 7.91),\n",
    "]\n",
    "\n",
    "for case in param_dcg_test_cases:\n",
    "    result = parametrizedDCG(case.actual, case.predicted, case.k, case.gain_type)\n",
    "    assert math.isclose(case.ans, result, rel_tol=0.01), f\"{result}!= {case.ans}\""
   ]
  },
  {
   "cell_type": "markdown",
   "id": "db4f1f0d",
   "metadata": {
    "id": "db4f1f0d"
   },
   "source": [
    "### Normalized Discounted Cumulative Gain\n"
   ]
  },
  {
   "cell_type": "code",
   "execution_count": 14,
   "id": "88fba0f0",
   "metadata": {
    "ExecuteTime": {
     "end_time": "2023-11-02T04:20:30.581466Z",
     "start_time": "2023-11-02T04:20:30.574653Z"
    },
    "id": "88fba0f0"
   },
   "outputs": [],
   "source": [
    "def normalizedDiscountedCumulativeGainAtK(actual: tp.List[int], predicted: tp.List[float], k: int) -> float:\n",
    "    predicted_items_dcg = discountedCumulativeGainAtK(actual, predicted, k)\n",
    "    ground_truth_dcg = discountedCumulativeGainAtK(actual, actual, k)\n",
    "    return predicted_items_dcg / ground_truth_dcg"
   ]
  },
  {
   "cell_type": "code",
   "execution_count": 15,
   "id": "1d8f3b5d",
   "metadata": {
    "ExecuteTime": {
     "end_time": "2023-11-02T04:20:32.426450Z",
     "start_time": "2023-11-02T04:20:32.419008Z"
    },
    "id": "1d8f3b5d"
   },
   "outputs": [],
   "source": [
    "actual = [3,2,1,0]\n",
    "predicted = [2,3,1,0]\n",
    "k = 3\n",
    "result = normalizedDiscountedCumulativeGainAtK(actual, predicted, k)\n",
    "ans = 0.92\n",
    "assert math.isclose(ans, result, rel_tol=0.01), f\"{result}!= {ans}\""
   ]
  },
  {
   "cell_type": "markdown",
   "id": "51109c54",
   "metadata": {
    "id": "51109c54"
   },
   "source": [
    "# Recriprocal Rank\n"
   ]
  },
  {
   "cell_type": "code",
   "execution_count": 16,
   "id": "f013196e",
   "metadata": {
    "ExecuteTime": {
     "end_time": "2023-11-02T04:21:54.411139Z",
     "start_time": "2023-11-02T04:21:54.401748Z"
    },
    "id": "f013196e"
   },
   "outputs": [],
   "source": [
    "def ReciprocalRank(actual: tp.List[int], predicted: tp.List[float]) -> float:\n",
    "    pos_label = max(actual)\n",
    "    order = np.argsort(predicted)[::-1]\n",
    "    actual = np.take(actual, order)\n",
    "    \n",
    "    if max(actual) == 0:\n",
    "        return 0.0\n",
    "    \n",
    "    first_relevant_pos = list(actual).index(pos_label) + 1\n",
    "    return 1 / first_relevant_pos"
   ]
  },
  {
   "cell_type": "code",
   "execution_count": 17,
   "id": "57405e12",
   "metadata": {
    "ExecuteTime": {
     "end_time": "2023-11-02T04:21:55.866332Z",
     "start_time": "2023-11-02T04:21:55.852983Z"
    },
    "id": "57405e12"
   },
   "outputs": [],
   "source": [
    "ReciprocalRankCase = namedtuple('ReciprocalRank', ['actual', 'predicted', 'ans'])\n",
    "\n",
    "reciprocal_rank_test_cases = [\n",
    "                ReciprocalRankCase([0,1,0], [0.75, 0.73, 0.72], 0.5),\n",
    "                ReciprocalRankCase([0,0,0], [0.75, 0.73, 0.72], 0.0),\n",
    "                ReciprocalRankCase([1,1,1], [0.75, 0.73, 0.72], 1.0),\n",
    "                ReciprocalRankCase([1,1,1], [0.73, 0.75, 0.72], 1.0),\n",
    "                ReciprocalRankCase([1,0,0], [0.73, 0.75, 0.72], 0.5),\n",
    "]\n",
    "\n",
    "for case in reciprocal_rank_test_cases:\n",
    "    result = ReciprocalRank(case.actual, case.predicted)\n",
    "    assert math.isclose(case.ans, result, rel_tol=0.01), f\"{result}!= {case.ans}\""
   ]
  },
  {
   "cell_type": "markdown",
   "id": "097f2c6f",
   "metadata": {
    "id": "097f2c6f"
   },
   "source": [
    "### Materials\n",
    "\n",
    "https://github.com/statisticianinstilettos/recmetrics"
   ]
  }
 ],
 "metadata": {
  "colab": {
   "provenance": []
  },
  "finalized": {
   "timestamp": 1698897426376,
   "trusted": false
  },
  "kernelspec": {
   "display_name": "Python [conda env:sandbox]",
   "language": "python",
   "name": "conda-env-sandbox-py"
  },
  "language_info": {
   "codemirror_mode": {
    "name": "ipython",
    "version": 3
   },
   "file_extension": ".py",
   "mimetype": "text/x-python",
   "name": "python",
   "nbconvert_exporter": "python",
   "pygments_lexer": "ipython3",
   "version": "3.9.12"
  },
  "toc": {
   "base_numbering": 1,
   "nav_menu": {},
   "number_sections": true,
   "sideBar": true,
   "skip_h1_title": false,
   "title_cell": "Table of Contents",
   "title_sidebar": "Contents",
   "toc_cell": false,
   "toc_position": {},
   "toc_section_display": true,
   "toc_window_display": true
  }
 },
 "nbformat": 4,
 "nbformat_minor": 5
}
